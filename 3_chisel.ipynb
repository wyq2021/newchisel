{
 "cells": [
  {
   "cell_type": "markdown",
   "metadata": {},
   "source": [
    "# <center><font face=\"STCAIYUN\" color=blue size=7>C H I S E L</font></center>"
   ]
  },
  {
   "cell_type": "markdown",
   "metadata": {},
   "source": [
    "# 第3章    模块与硬件类型\n",
    "---\n",
    "<font face=\"宋体\" size=3>Chisel在构建硬件的思路上与Verilog类似。在Verilog中，是以“模块(module)”为基本单位组成一个完整的独立功能实体，所以Chisel也是按模块划分的，只不过不是用关键字“module”开头来定义模块，而是用一个继承自Module类的自定义class。     \n",
    "    本章将介绍Chisel里的常用硬件类型以及如何编写一个基本的模块，对于高级类型，读者可以自行研究。这些类型的语法很简单，都是由定义在单例对象里的apply工厂方法来完成。字面的名字已经把硬件含义表明得很清楚，至于它们的具体实现是什么，读者可以不用关心。\n",
    "</font>\n",
    "# <font face=\"宋体\" size=3>设置</font>"
   ]
  },
  {
   "cell_type": "code",
   "execution_count": null,
   "metadata": {},
   "outputs": [],
   "source": [
    "val path = System.getProperty(\"user.dir\") + \"/source/load-ivy.sc\"\n",
    "interp.load.module(ammonite.ops.Path(java.nio.file.FileSystems.getDefault().getPath(path)))"
   ]
  },
  {
   "cell_type": "code",
   "execution_count": null,
   "metadata": {},
   "outputs": [],
   "source": [
    "import chisel3._\n",
    "import chisel3.util._\n",
    "import chisel3.tester._\n",
    "import chisel3.tester.RawTester.test\n",
    "import chisel3.stage.ChiselGeneratorAnnotation"
   ]
  },
  {
   "cell_type": "markdown",
   "metadata": {},
   "source": [
    "***\n",
    "\n",
    "## Chisel是如何赋值的\n",
    "<font face=\"宋体\" size=3>有了硬件类型后，就可以用**赋值操作**来进行信号的传递或者电路的连接。只有硬件赋值才有意义，单纯的数据对象进行赋值并不会被编译器转换成实际的电路，因为在Verilog里也是对wire、reg类型的硬件进行赋值。那么，赋值操作需要什么样的操作符来完成呢？  </font>"
   ]
  },
  {
   "cell_type": "markdown",
   "metadata": {},
   "source": [
    "<font face=\"宋体\" size=3>在Chisel里，因为硬件电路的不可变性,所有对象都应该由val类型的变量来引用。Chisel类都定义了方法“**:=**”，作为等号赋值的代替。所以首次创建变量时用等号初始化，如果变量引用的对象不能立即确定状态或本身就是可变对象，则在后续更新状态时应该用“:=”。从前面讲的操作符优先级来判断，该操作符以等号结尾，而且不是四种逻辑比较符号之一，所以优先级与等号一致，是最低的。需要注意的是在Verilog中分阻塞赋值和非阻塞赋值两种赋值方式，而chisel中只有一种赋值方式。例如：\n",
    "</font>"
   ]
  },
  {
   "cell_type": "code",
   "execution_count": null,
   "metadata": {},
   "outputs": [],
   "source": [
    "val x = Wire(UInt(4.W))\n",
    "val y = Wire(UInt(4.W))\n",
    "x := \"b1010\".U  // 向4bit的线网x赋予了无符号数10\n",
    "y := ~x  // 把x按位取反，传递给y"
   ]
  },
  {
   "cell_type": "raw",
   "metadata": {},
   "source": [
    "上面的例子对应的Verilog写法为：\n",
    "wire [3:0] x;\n",
    "wire [3:0] y;\n",
    "assign x = 4’b1010;\n",
    "assign y = ~x;"
   ]
  },
  {
   "cell_type": "markdown",
   "metadata": {},
   "source": [
    "## 端口\n",
    "### 定义端口列表\n",
    "\n",
    "<font face=\"宋体\" size=3>定义一个模块前首先需要定义好端口。整个端口列表是由方法定义为：“**IO[T <: Data](iodef: T)**”。其参数通常是一个Bundle类型的对象，而且引用的字段名称必须是“io” （对于继承自Module的模块）。因为端口存在方向，所以还需要方法“Input[T <: Data](source: T)”和“Output[T <: Data](source: T)”来为每个端口表明具体的方向。        \n",
    "注意，“Input[T <: Data](source: T)”和“Output[T <: Data](source: T)”的入参是数据类型，不能是硬件类型。目前Chisel还不支持双向端口inout，只能通过黑盒里的Analog端口来模拟外部Verilog的双向端口。\n",
    "</font>\n"
   ]
  },
  {
   "cell_type": "code",
   "execution_count": null,
   "metadata": {},
   "outputs": [],
   "source": [
    "class MyIO extends Bundle {\n",
    "   val in = Input(Vec(5, UInt(32.W)))\n",
    "   val out = Output(UInt(32.W))\n",
    "}\n",
    "class MyModule extends Module{\n",
    "   val io = IO(new MyIO)  // 模块的端口列表\n",
    "}"
   ]
  },
  {
   "cell_type": "raw",
   "metadata": {},
   "source": [
    "上面的例子对应的Verilog写法为：\n",
    "module MyModule (\n",
    "  input         clock,\n",
    "  input         reset,\n",
    "  input  [31:0] in_0,\n",
    "  input  [31:0] in_1,\n",
    "  input  [31:0] in_2,\n",
    "  input  [31:0] in_3,\n",
    "  input  [31:0] in_4,\n",
    "  output [31:0] out\n",
    ");"
   ]
  },
  {
   "cell_type": "markdown",
   "metadata": {},
   "source": [
    "<font face=\"宋体\" size=3>一旦端口列表定义完成，就可以通过“io.xxx”来使用。</font>\n",
    "### 翻转端口列表的方向\n",
    "<font face=\"宋体\" size=3>Chisel提供了“Flipped[T <: Data](source: T)”方法，可以把参数里所有的输入端口转为输出端口，输出端口转为输入端口。如果是黑盒里的Analog端口，则仍是双向的。</font>\n"
   ]
  },
  {
   "cell_type": "code",
   "execution_count": null,
   "metadata": {},
   "outputs": [],
   "source": [
    "class MyIO extends Bundle {\n",
    "   val in = Input(Vec(5, UInt(32.W)))\n",
    "   val out = Output(UInt(32.W))\n",
    "}\n",
    "class MyModule_1 extends Module{\n",
    "val io = IO(new MyIO)  // in是输入，out是输出\n",
    "}\n",
    "class MyModule_2 extends Module{\n",
    "val io = IO(Flipped(new MyIO))  // out是输入，in是输出\n",
    "}"
   ]
  },
  {
   "cell_type": "markdown",
   "metadata": {},
   "source": [
    "### 整体连接\n",
    "<font face=\"宋体\" size=3>翻转方向的端口列表通常配合整体连接符号“**<>**”使用。该操作符会把左右两边的端口列表里所有同名的端口进行连接，而且同一级的端口方向必须是输入端口连接输出端口、输出端口连接输入端口，父级和子级的端口方向则是输入端口与输入端口相连、输出端口与输出端口相连</font>"
   ]
  },
  {
   "cell_type": "code",
   "execution_count": null,
   "metadata": {},
   "outputs": [],
   "source": [
    "class MyIO extends Bundle {\n",
    "   val in = Input(Vec(5, UInt(32.W)))\n",
    "   val out = Output(UInt(32.W))\n",
    "}\n",
    "class MyModule extends Module{\n",
    "val io = IO(new Bundle {\n",
    "       val x = new MyIO       \n",
    "       val y = Flipped(new MyIO)\n",
    "   })\n",
    "\tio.x <> io.y  // 相当于 io.y.in := io.x.in; io.x.out := io.y.out\n",
    "}"
   ]
  },
  {
   "cell_type": "markdown",
   "metadata": {},
   "source": [
    "### 动态修改端口 \n",
    "<font face=\"宋体\" size=3>（1）使用可选字段 Chisel通过引入Scala的Boolean参数、可选值以及if语句可以创建出可选的端口，在例化该模块时可以通过控制Boolean入参来生成不同的端口。</font>"
   ]
  },
  {
   "cell_type": "code",
   "execution_count": null,
   "metadata": {},
   "outputs": [],
   "source": [
    "class ModuleWithOptionalIOs(flag: Boolean) extends Module {\n",
    "   \t\tval io = IO(new Bundle {\n",
    "       \t\tval in = Input(UInt(12.W))\n",
    "       \t\tval out = Output(UInt(12.W))\n",
    "       \t\tval out2 = if (flag) Some(Output(UInt(12.W))) else None\n",
    " \t\t })\n",
    "  \n",
    " \t\tio.out := io.in\n",
    "   \t\tif(flag) {\n",
    "     \t\tio.out2.get := io.in\n",
    "   \t\t}\n",
    "} "
   ]
  },
  {
   "cell_type": "markdown",
   "metadata": {},
   "source": [
    "<font face=\"宋体\" size=3>（2）使用Zero-Width chisel允许数据的位宽为0。位宽为0的IO会从生成的Verilog中去除，当你试图使用位宽为0的wire时，你会得到一个常数0。如果0是一个合理的默认值，那么更推荐使用该方法。</font>"
   ]
  },
  {
   "cell_type": "code",
   "execution_count": null,
   "metadata": {},
   "outputs": [],
   "source": [
    "class HalfFullAdder(val hasCarry: Boolean) extends Module {\n",
    "  val io = IO(new Bundle {\n",
    "    val a = Input(UInt(1.W))\n",
    "    val b = Input(UInt(1.W))\n",
    "    val carryIn = Input(if (hasCarry) UInt(1.W) else UInt(0.W))\n",
    "    val s = Output(UInt(1.W))\n",
    "    val carryOut = Output(UInt(1.W))\n",
    "  })\n",
    "  val sum = io.a +& io.b +& io.carryIn\n",
    "  io.s := sum(0)\n",
    "  io.carryOut := sum(1)\n",
    "}"
   ]
  },
  {
   "cell_type": "markdown",
   "metadata": {},
   "source": [
    "## 模块\n",
    "\n",
    "### 模块分类\n",
    "\n",
    "|模块|作用|\n",
    "|:----:|:----:|\n",
    "|Module|有一个隐式时钟（称为clock）和一个隐式复位（称为reset），必须实现抽象成员io|\n",
    "|MultiIOModule|有一个隐式时钟和复位；Module有一个隐式时钟（称为clock）和一个隐式复位（称为reset），必须实现抽象成员io|\n",
    "|RawModule|允许根据需要定义IO，无抽象成员io，但不提供隐式时钟和复位，可以自定义时钟和复位信号|\n",
    "\n",
    "<font face=\"宋体\" size=3>下面分别用三种模块实现与门，注意区别。</font>\n"
   ]
  },
  {
   "cell_type": "code",
   "execution_count": null,
   "metadata": {},
   "outputs": [],
   "source": [
    "class AndRawModule extends RawModule {\n",
    "  val ioBundle = IO(new Bundle {\n",
    "    val a = Input(UInt(1.W))\n",
    "    val b = Input(UInt(1.W))\n",
    "  })\n",
    "  val c = IO(Output(UInt(1.W)))\n",
    "  c := ioBundle.a & ioBundle.b\n",
    "}\n",
    "class AndMultiIOModule extends MultiIOModule {\n",
    "  val io = IO(new Bundle {\n",
    "    val a = Input(UInt(1.W))\n",
    "    val c = Output(UInt(1.W))\n",
    "  })\n",
    "  val iob = IO(Input(UInt(1.W)))\n",
    "  io.c := io.a & iob\n",
    "}\n",
    "class AndModule extends Module {\n",
    "  val io = IO(new Bundle {\n",
    "    val a = Input(UInt(1.W))\n",
    "    val b = Input(UInt(1.W))\n",
    "    val c = Output(UInt(1.W))\n",
    "  })\n",
    "  io.c := io.a & io.b\n",
    "}"
   ]
  },
  {
   "cell_type": "markdown",
   "metadata": {},
   "source": [
    "### 定义模块\n",
    "<font face=\"宋体\" size=3>在Chisel里定义一个模块一般是通过继承Module类来实现的，这个类有以下三个特点：  \n",
    "    ①继承自Module类。   \n",
    "    ②包含一个用于接口的抽象字段“io”，该字段必须引用前面所说的端口对象。   \n",
    "    ③在类的主构造器里进行内部电路连线。\n",
    "</font>"
   ]
  },
  {
   "cell_type": "code",
   "execution_count": null,
   "metadata": {},
   "outputs": [],
   "source": [
    "// mux2.scala\n",
    "class Mux2 extends Module {\n",
    "  val io = IO(new Bundle{\n",
    "    val sel = Input(UInt(1.W))\n",
    "    val in0 = Input(UInt(1.W))\n",
    "    val in1 = Input(UInt(1.W))\n",
    "    val out = Output(UInt(1.W))\n",
    "  })\n",
    " \n",
    "  io.out := (io.sel & io.in1) | (~io.sel & io.in0)\n",
    "}\n"
   ]
  },
  {
   "cell_type": "markdown",
   "metadata": {},
   "source": [
    "### 例化模块\n",
    "<font face=\"宋体\" size=3>要例化一个模块，并不是直接用new生成一个实例对象就完成了，还需要再把实例的对象传递给单例对象Module的apply方法。</font>"
   ]
  },
  {
   "cell_type": "code",
   "execution_count": null,
   "metadata": {},
   "outputs": [],
   "source": [
    "// mux4.scala\n",
    "class Mux4 extends Module {\n",
    "  val io = IO(new Bundle {\n",
    "    val in0 = Input(UInt(1.W))\n",
    "    val in1 = Input(UInt(1.W))\n",
    "    val in2 = Input(UInt(1.W))\n",
    "    val in3 = Input(UInt(1.W))\n",
    "    val sel = Input(UInt(2.W))\n",
    "    val out = Output(UInt(1.W))\n",
    "  })\n",
    "  val m0 = Module(new Mux2)\n",
    "  m0.io.sel := io.sel(0)\n",
    "  m0.io.in0 := io.in0\n",
    "  m0.io.in1 := io.in1\n",
    "  val m1 = Module(new Mux2)\n",
    "  m1.io.sel := io.sel(0)\n",
    "  m1.io.in0 := io.in2\n",
    "  m1.io.in1 := io.in3\n",
    "  val m2 = Module(new Mux2)\n",
    "  m2.io.sel := io.sel(1)\n",
    "  m2.io.in0 := m0.io.out\n",
    "  m2.io.in1 := m1.io.out\n",
    "  io.out := m2.io.out\n",
    "}\n"
   ]
  },
  {
   "cell_type": "markdown",
   "metadata": {},
   "source": [
    "### 例化多个模块\n",
    "<font face=\"宋体\" size=3>在上个例子中，模块Mux2被例化了三次，实际上只需要一次性例化三个模块就可以了。对于要多次例化的重复模块，可以利用向量的工厂方法。因为该方法接收的参数类型是Data的子类，而模块的字段io正好是Bundle类型，并且实际的电路连线仅仅只需针对模块的端口，所以可以把待例化模块的io字段组成一个序列，或者按重复参数的方式作为参数传递。\n",
    "</font>"
   ]
  },
  {
   "cell_type": "code",
   "execution_count": null,
   "metadata": {},
   "outputs": [],
   "source": [
    "// mux4_2.scala\n",
    "class Mux4_2 extends Module {\n",
    "  val io = IO(new Bundle {\n",
    "    val in0 = Input(UInt(1.W))\n",
    "    val in1 = Input(UInt(1.W))\n",
    "    val in2 = Input(UInt(1.W))\n",
    "    val in3 = Input(UInt(1.W))\n",
    "    val sel = Input(UInt(2.W))\n",
    "    val out = Output(UInt(1.W))\n",
    "  })\n",
    "  val m = VecInit(Seq.fill(3)(Module(new Mux2).io))  \n",
    "// 例化了三个Mux2，并且参数是端口字段io\n",
    "  m(0).sel := io.sel(0)  // 模块的端口通过下标索引，并且路径里没有“io”\n",
    "  m(0).in0 := io.in0\n",
    "  m(0).in1 := io.in1\n",
    "  m(1).sel := io.sel(0)\n",
    "  m(1).in0 := io.in2\n",
    "  m(1).in1 := io.in3\n",
    "  m(2).sel := io.sel(1)\n",
    "  m(2).in0 := m(0).out\n",
    "  m(2).in1 := m(1).out\n",
    "  io.out := m(2).out\n",
    "}\n"
   ]
  },
  {
   "cell_type": "markdown",
   "metadata": {},
   "source": [
    "<font face=\"宋体\" size=3>这样写和上例中分别例化三个模块生成的Verilog代码是相同的，但在Verilog中没有Chisel这样一次例化多个模块这样的语法，这体现了Chisel在编写大规模电路时的高效性。实际项目中例化多个模块可能是要带不同参数的，无法用VecInit例化，只能用for循环+yield，用循环/控制语句控制例化模块，下面我们来看一个示例。</font>"
   ]
  },
  {
   "cell_type": "code",
   "execution_count": null,
   "metadata": {},
   "outputs": [],
   "source": [
    "// MoudleForYield.scala\n",
    "\n",
    "//n位全加器\n",
    "class NBitsAdder(n: Int) extends Module {\n",
    "  val io = IO(new Bundle {\n",
    "    val a = Input(UInt(n.W))\n",
    "    val b = Input(UInt(n.W))\n",
    "    val s = Output(UInt((n+1).W))\n",
    "  })\n",
    "//使用“+&”运算符，结果拓展位宽\n",
    "  io.s := io.a +& io.b\n",
    "}\n",
    "\n",
    "/*将n个m位宽的数据累加起来，n为2的次幂，比如n=4时，计算a+b+c+d，先用两个加法器计算a+b和c+d，再使用一个位宽更大的加法器将上述两个结果相加得到最终结果。*/\n",
    "class MoudleForYield(n: Int, m: Int) extends Module {\n",
    "  //输入数据的个数\n",
    "  val inputNum = n\n",
    "  val outputWidth = log2Up(n+1) + m - 1\n",
    "  val io = IO(new Bundle{\n",
    "    //输入使用Vec向量，表示n个m位宽的UInt\n",
    "    val in = Input(Vec(n,UInt(m.W)))\n",
    "    val out = Output(UInt(outputWidth.W))\n",
    "  })\n",
    "  //stage表示加法器的级数，0表示第1级，例如n=8时需要3级加法器\n",
    "  var stage = 0\n",
    "  //stageNum表示每级所需加法器个数，例如n=8时，每级依次为4、2、1个\n",
    "  var stageNum = inputNum/2\n",
    "  //使用可变映射Map保存例化的模块，key为stage，value为yield生成的序列\n",
    "  val mutableMap = scala.collection.mutable.Map[Int, IndexedSeq[NBitsAdder]]()\n",
    "  //使用while循环逐级例化加法器，每高一级位宽加一\n",
    "  while (stage < outputWidth-m) {\n",
    "    mutableMap += ( stage -> (for (i <- 1 to stageNum) yield Module(new NBitsAdder(stage+m))) )\n",
    "    stage = stage + 1\n",
    "    stageNum = stageNum/2\n",
    "  }\n",
    "\n",
    "  //例化完成后进行连线，与主模块连接的部分比较特殊，需要单独连线\n",
    "  //num是临时变量，用于索引\n",
    "  var num = 0\n",
    "  //将主模块io.in与mutableMap(0)即第1级加法器输入相连\n",
    "  //在for循环中将mutableMap(0)中的元素进行遍历并连线\n",
    "  for (adder <- mutableMap(0)) {\n",
    "    adder.io.a := io.in(num)\n",
    "    adder.io.b := io.in(num+1)\n",
    "    num = num + 2\n",
    "  }\n",
    "\n",
    "  //num为key，num1为索引\n",
    "  num = 1\n",
    "  var num1 = 0\n",
    "  /*使用while循环逐级进行连线，将上一级两个加法器的输出接到这一级加法器的输入，mutableMap.getOrElse(num,-1)作用是返回key为num对应的value，找不到key为num的value则返回-1，详情见14.5.2。*/\n",
    "  while (mutableMap.getOrElse(num,-1) != -1) {\n",
    "    for (adder <- mutableMap(num)) {\n",
    "      adder.io.a := mutableMap(num-1)(num1).io.s\n",
    "      adder.io.b := mutableMap(num-1)(num1+1).io.s\n",
    "      num1 = num1 + 2\n",
    "    }\n",
    "    num = num + 1\n",
    "    num1 = 0\n",
    "  }\n",
    "  //最后将末级最后一个加法器的输出接到主模块的io.out端口\n",
    "  io.out := mutableMap(num-1)(0).io.s\n",
    "}\n"
   ]
  },
  {
   "cell_type": "code",
   "execution_count": null,
   "metadata": {},
   "outputs": [],
   "source": [
    "object MoudleForYieldGen extends App {\n",
    "  new (chisel3.stage.ChiselStage).execute(Array(\"--target-dir\", \"./generated/chapter03/MoudleForYield\"),\n",
    "    Seq(ChiselGeneratorAnnotation(() => new MoudleForYield(8,4))))\n",
    "}\n"
   ]
  },
  {
   "cell_type": "markdown",
   "metadata": {},
   "source": [
    "<font face=\"宋体\" size=3>生成的8个4位宽的该加法器生成的verilog代码详见教材部分。可以从生成的Verilog代码中看出第1级使用了4个4位宽的加法器，第2级是两个5位宽的加法器，第3级是一个6位宽的加法器，最终结果7位宽，符合预期。</font>"
   ]
  },
  {
   "cell_type": "markdown",
   "metadata": {},
   "source": [
    "## 线网\n",
    "### Wire\n",
    "\n",
    "<font face=\"宋体\" size=3>Chisel把线网作为电路的节点，通过工厂方法“Wire[T <: Data](t: T)”来定义线网，相当于Verilog中定义的wire类型的变量。可以对线网进行赋值，也可以把线网连接到其他电路节点，线网是组成组合逻辑的基本硬件类型。</font>"
   ]
  },
  {
   "cell_type": "code",
   "execution_count": null,
   "metadata": {},
   "outputs": [],
   "source": [
    "class MyModule extends Module{\n",
    "    val io = IO(new Bundle{\n",
    "        val in = Input(UInt(8.W))\n",
    "})\n",
    "\n",
    "val myNode = Wire(UInt(8.W))\n",
    "myNode := 0.U;\n",
    "myNode := io.in + 1.U;\n",
    "}"
   ]
  },
  {
   "cell_type": "markdown",
   "metadata": {},
   "source": [
    "<font face=\"宋体\" size=3>因为Scala作为软件语言是顺序执行的，定义具有覆盖性，所以如果对同一个线网多次赋值，则只有最后一次赋值是有效的。例如下面的代码与上面的例子是等效的：\n",
    "</font>"
   ]
  },
  {
   "cell_type": "code",
   "execution_count": null,
   "metadata": {},
   "outputs": [],
   "source": [
    "class MyModule extends Module {\n",
    "  val io = IO(new Bundle {\n",
    "    val in = Input(UInt(8.W))\n",
    "  })\n",
    "\n",
    "  val myNode = Wire(UInt(8.W))\n",
    "  myNode := 0.U;\n",
    "  myNode := io.in + 1.U;\n",
    "}\n"
   ]
  },
  {
   "cell_type": "markdown",
   "metadata": {},
   "source": [
    "<font face=\"宋体\" size=3>Wire的一些用例如下[1]，如果不提供位宽参数，代码将启用自动推断；而在Verilog中不支持位宽的自动推断，如不写出位宽默认为1位。</font>"
   ]
  },
  {
   "cell_type": "code",
   "execution_count": null,
   "metadata": {},
   "outputs": [],
   "source": [
    "val w0 = Wire(UInt()) // width is inferred\n",
    "val w1 = Wire(UInt(8.W)) // width is set to 8\n",
    "\n",
    "val w2 = Wire(Vec(4, UInt())) // width is inferred\n",
    "val w3 = Wire(Vec(4, UInt(8.W))) // width of each element is set to 8\n",
    "\n",
    "class MyBundle {\n",
    "  val unknown = UInt()\n",
    "  val known   = UInt(8.W)\n",
    "}\n",
    "val w4 = Wire(new MyBundle)\n",
    "// Width of w4.unknown is inferred\n",
    "// Width of w4.known is set to 8\n"
   ]
  },
  {
   "cell_type": "markdown",
   "metadata": {},
   "source": [
    "### WireDefault"
   ]
  },
  {
   "cell_type": "raw",
   "metadata": {},
   "source": [
    "wireDefualt用于构建具有默认连接的硬件线路，它的定义为：\n",
    "\n",
    "def WireDefault[T <: Data](t: T, init: T): T = {\n",
    "   val x = Wire(t)\n",
    "   x := init\n",
    "   x\n",
    " }\n"
   ]
  },
  {
   "cell_type": "markdown",
   "metadata": {},
   "source": [
    "### 未驱动的线网\n",
    "<font face=\"宋体\" size=3>Chisel的Invalidate API支持检测未驱动的输出型IO以及定义不完整的Wire定义，在编译成firrtl时会产生“not fully initialized”错误。换句话说，就是组合逻辑的真值表不完整，不能综合出完整的电路。如果确实需要不被驱动的线网，则可以赋给一个DontCare对象，这会告诉Firrtl编译器，该线网故意不被驱动。\n",
    "</font>"
   ]
  },
  {
   "cell_type": "markdown",
   "metadata": {},
   "source": [
    "## 寄存器\n",
    "<font face=\"宋体\" size=3>寄存器是时序逻辑的基本硬件类型，它们都是由当前时钟域的时钟上升沿触发的。如果模块里没有多时钟域的语句块，那么寄存器都是由隐式的全局时钟来控制。对于有复位信号的寄存器，如果不在多时钟域语句块里，则由隐式的全局复位来控制，并且复位信号是高有效。     \n",
    "    chisel有五种内建的寄存器：Reg、RegNext、RegInit、util包里的RegEnable和ShiftRegister，下面逐一介绍。\n",
    "\n",
    "</font>\n",
    "\n",
    "|寄存器|名称|定义方法|作用|\n",
    "|:----:|:----:|:----:|:----:|\n",
    "|Reg|普通的寄存器|Reg[T <: Data](t: T)|它可以在when语句里用全局reset信号进行同步复位，也可以进行条件赋值或无条件跟随|\n",
    "|RegNext|跟随寄存器|RegNext[T <: Data](next: T)|返回一个位宽可以自动推断的寄存器，在每个时钟上升沿，它都会采样一次传入的参数，并且没有复位信号|\n",
    "|RegInit|复位到指定值的寄存器|RegInit[T <: Data](init: T)|可以用内建的when语句进行条件赋值，当前隐式复位信号有效时，寄存器将被设置为初始化值|\n",
    "|RegEnable|带一个使能端的寄存器RegEnable|apply[T <: Data](next: T, enable: Bool)|不进行复位初始化|\n",
    "|ShiftRegister|移位寄存器|ShiftRegister[T <: Data](in: T, n: Int, resetData: T, en: Bool)|不进行复位初始化|\n",
    "\n",
    "#### 寄存器实例"
   ]
  },
  {
   "cell_type": "code",
   "execution_count": null,
   "metadata": {},
   "outputs": [],
   "source": [
    "// reg.scala\n",
    "class REG extends Module {\n",
    "  val io = IO(new Bundle {\n",
    "    val a = Input(UInt(8.W))\n",
    "    val en = Input(Bool())\n",
    "    val c = Output(UInt(1.W))\n",
    "  })\n",
    "val reg0 = RegNext(io.a)\n",
    "  val reg1 = RegNext(io.a, 0.U)\n",
    "  val reg2 = RegInit(0.U(8.W))\n",
    "  val reg3 = Reg(UInt(8.W))\n",
    "  val reg4 = Reg(UInt(8.W))\n",
    "  val reg5 = RegEnable(io.a + 1.U, 0.U, io.en)\n",
    "  val reg6 = RegEnable(io.a - 1.U, io.en)\n",
    "  val reg7 = ShiftRegister(io.a, 3, 0.U, io.en)\n",
    "  val reg8 = ShiftRegister(io.a, 3, io.en)\n",
    "  \n",
    "  reg2 := io.a.andR\n",
    "  reg3 := io.a.orR\n",
    "  when(reset.toBool) {\n",
    "    reg4 := 0.U\n",
    "  } .otherwise {\n",
    "    reg4 := 1.U\n",
    "  }\n",
    "  io.c := reg0(0) & reg1(0) & reg2(0) & reg3(0) & reg4(0) & reg5(0) & reg6(0) & reg7(0) & reg8(0)\n",
    "} \n"
   ]
  },
  {
   "cell_type": "markdown",
   "metadata": {},
   "source": [
    "### 异步寄存器\n",
    "<font face=\"宋体\" size=3>我们使用withClockAndReset来构造异步时钟和异步复位信号，也可以用withClock和withReset单独控制异步时钟或异步复位信号，代码如下：\n",
    "</font>"
   ]
  },
  {
   "cell_type": "code",
   "execution_count": null,
   "metadata": {},
   "outputs": [],
   "source": [
    "class asyncReg extends Module {\n",
    "  val io = IO(new Bundle {\n",
    "    val asyncClk = Input(UInt(1.W))\n",
    "    val asyncRst = Input(UInt(1.W))\n",
    "    val out = Output(UInt(8.W))\n",
    "  })\n",
    "\n",
    "  val asyncRegInit = withClockAndReset(io.asyncClk.asBool().asClock(),\n",
    "    io.asyncRst.asBool().asAsyncReset())(RegInit(0.U(8.W)))\n",
    "  asyncRegInit := asyncRegInit + 1.U\n",
    "  io.out := asyncRegInit\n",
    "}\n"
   ]
  },
  {
   "cell_type": "markdown",
   "metadata": {},
   "source": [
    "### 寄存器组\n",
    "<font face=\"宋体\" size=3>上述构造寄存器的工厂方法，它们的参数可以是任何Data的子类型。如果把子类型Vec[T]作为参数传递进去，就会生成多个位宽相同、行为相同、名字前缀相同的寄存器。同样，寄存器组在Chisel代码里可以通过下标索引。例如：\n",
    "</font>"
   ]
  },
  {
   "cell_type": "code",
   "execution_count": null,
   "metadata": {},
   "outputs": [],
   "source": [
    "// reg2.scala\n",
    "class REG2 extends Module {\n",
    "  val io = IO(new Bundle {\n",
    "    val a = Input(UInt(8.W))\n",
    "    val en = Input(Bool())\n",
    "    val c = Output(UInt(1.W))\n",
    "  })\n",
    "  val reg0 = RegNext(VecInit(io.a, io.a))\n",
    "  val reg1 = RegNext(VecInit(io.a, io.a), VecInit(0.U, 0.U))\n",
    "  val reg2 = RegInit(VecInit(0.U(8.W), 0.U(8.W)))\n",
    "  val reg3 = Reg(Vec(2, UInt(8.W)))\n",
    "  val reg4 = Reg(Vec(2, UInt(8.W)))\n",
    "  val reg5 = RegEnable(VecInit(io.a + 1.U, io.a + 1.U), VecInit(0.U(8.W), 0.U(8.W)), io.en)\n",
    "  val reg6 = RegEnable(VecInit(io.a - 1.U, io.a - 1.U), io.en)\n",
    "  val reg7 = ShiftRegister(VecInit(io.a, io.a), 3, VecInit(0.U(8.W), 0.U(8.W)), io.en)\n",
    "  val reg8 = ShiftRegister(VecInit(io.a, io.a), 3, io.en)\n",
    "  \n",
    "  reg2(0) := io.a.andR\n",
    "  reg2(1) := io.a.andR\n",
    "  reg3(0) := io.a.orR\n",
    "  reg3(1) := io.a.orR\n",
    "  when(reset.toBool) {\n",
    "    reg4(0) := 0.U\n",
    "    reg4(1) := 0.U\n",
    "  } .otherwise {\n",
    "    reg4(0) := 1.U\n",
    "    reg4(1) := 1.U\n",
    "  }\n",
    "  io.c := reg0(0)(0) & reg1(0)(0) & reg2(0)(0) & reg3(0)(0) & reg4(0)(0) & reg5(0)(0) & reg6(0)(0) & reg7(0)(0) & reg8(0)(0) &reg0(1)(0) & reg1(1)(0) & reg2(1)(0) & reg3(1)(0) & reg4(1)(0) & reg5(1)(0) & reg6(1)(0) & reg7(1)(0) & reg8(1)(0)\n",
    "}\n"
   ]
  },
  {
   "cell_type": "markdown",
   "metadata": {},
   "source": [
    "## 用when给电路赋值\n"
   ]
  },
  {
   "cell_type": "markdown",
   "metadata": {},
   "source": [
    "<font face=\"宋体\" size=3>在Verilog里，可以使用“if...else if...else”这样的条件选择语句来方便地构建电路的逻辑。由于Scala已经占用了“if…else if…else”语法，所以相应的Chisel控制结构改成了when语句，其语法如下：\n",
    "</font>"
   ]
  },
  {
   "cell_type": "raw",
   "metadata": {},
   "source": [
    "when (condition 1) { definition 1 }\n",
    ".elsewhen (condition 2) { definition 2 }\n",
    "...\n",
    ".elsewhen (condition N) { definition N }\n",
    ".otherwise { default behavior }\n"
   ]
  },
  {
   "cell_type": "code",
   "execution_count": null,
   "metadata": {},
   "outputs": [],
   "source": [
    "// mux2_when.scala \n",
    "class Mux2 extends Module {\n",
    "  val io = IO(new Bundle{\n",
    "    val sel = Input(UInt(1.W))\n",
    "    val in0 = Input(UInt(1.W))\n",
    "    val in1 = Input(UInt(1.W))\n",
    "    val out = Output(UInt(1.W))\n",
    "  })\n",
    "   \n",
    "   when(io.sel === 1.U){\n",
    "        io.out := io.in1\n",
    "}.otherwise{\n",
    "    io.out := io.in0\n",
    "}\n",
    "}"
   ]
  },
  {
   "cell_type": "markdown",
   "metadata": {},
   "source": [
    "#### <font face=\"宋体\" size=3><font face=\"STCAIYUN\" color=red size=4>！！！注意</font>  \n",
    "<font face=\"宋体\" size=3>“.elsewhen”和“.otherwise”的开头都有一个英文句号。when语句不仅可以用于线网赋值，还可以用于寄存器赋值，但是要注意构建组合逻辑时不能缺失“.otherwise”分支，或者在when之前进行赋值。如果在when之后进行直接赋值会覆盖掉when的条件赋值，建议还是把.othwise写全，避免出错。\n",
    "</font>"
   ]
  },
  {
   "cell_type": "markdown",
   "metadata": {},
   "source": [
    "<font face=\"宋体\" size=3>在Chisel中也会用到“if...else if...else”语句，要特别注意它与“when... .elsewhen... .otherwise”在语法和用法上的区别。</font>         \n",
    "<font face=\"宋体\" size=3>前者的判断条件返回的是Scala中的Boolean类型；而后者的判断条件返回硬件类型Bool，即Chisel自己的布尔类型，为UInt类的子类。在用法上前者通常用在电路生成器的编写中，可以通过判断参数的条件来选择性地执行Scala代码，生成不同的硬件结构。而后者可以生成对应的硬件，即多路选择器。我们可以通过下面的例子进一步理解两者的区别。\n",
    "</font>"
   ]
  },
  {
   "cell_type": "code",
   "execution_count": null,
   "metadata": {},
   "outputs": [],
   "source": [
    "//对4个输入数据进行排序\n",
    "class Sort4(ascending: Boolean) extends Module {\n",
    "  val io = IO(new Bundle {\n",
    "    val in0 = Input(UInt(16.W))\n",
    "    val in1 = Input(UInt(16.W))\n",
    "    val in2 = Input(UInt(16.W))\n",
    "    val in3 = Input(UInt(16.W))\n",
    "    val out0 = Output(UInt(16.W))\n",
    "    val out1 = Output(UInt(16.W))\n",
    "    val out2 = Output(UInt(16.W))\n",
    "    val out3 = Output(UInt(16.W))\n",
    "  })\n",
    "    \n",
    "  // 根据入参控制函数comp的比较功能，判断参数用if...else语句\n",
    "  def comp(l: UInt, r: UInt): Bool = {\n",
    "      if (ascending) {\n",
    "        l < r\n",
    "      } else {\n",
    "        l > r\n",
    "    }\n",
    "  }\n",
    "\n",
    "  val row10 = Wire(UInt(16.W))\n",
    "  val row11 = Wire(UInt(16.W))\n",
    "  val row12 = Wire(UInt(16.W))\n",
    "  val row13 = Wire(UInt(16.W))\n",
    "\n",
    "// 要描述电路用when... .otherwise语句\n",
    "  when(comp(io.in0, io.in1)) {\n",
    "    row10 := io.in0            // preserve first two elements\n",
    "    row11 := io.in1\n",
    "  }.otherwise {\n",
    "    row10 := io.in1            // swap first two elements\n",
    "    row11 := io.in0\n",
    "  }\n",
    "\n",
    "  when(comp(io.in2, io.in3)) {\n",
    "    row12 := io.in2            // preserve last two elements\n",
    "    row13 := io.in3\n",
    "  }.otherwise {\n",
    "    row12 := io.in3            // swap last two elements\n",
    "    row13 := io.in2\n",
    "  }\n",
    "\n",
    "  val row21 = Wire(UInt(16.W))\n",
    "  val row22 = Wire(UInt(16.W))\n",
    "\n",
    "  when(comp(row11, row12)) {\n",
    "    row21 := row11            // preserve middle 2 elements\n",
    "    row22 := row12\n",
    "  }.otherwise {\n",
    "    row21 := row12            // swap middle two elements\n",
    "    row22 := row11\n",
    "  }\n",
    "\n",
    "  val row31 = Wire(UInt(16.W))\n",
    "  val row32 = Wire(UInt(16.W))\n",
    "  when(comp(row10, row13)) {\n",
    "    row31 := row10            // preserve middle 2 elements\n",
    "    row32 := row13\n",
    "  }.otherwise {\n",
    "    row31 := row13            // swap middle two elements\n",
    "    row32 := row10\n",
    "  }\n",
    "\n",
    "  when(comp(row10, row21)) {\n",
    "    io.out0 := row31            // preserve first two elements\n",
    "    io.out1 := row21\n",
    "  }.otherwise {\n",
    "    io.out0 := row21            // swap first two elements\n",
    "    io.out1 := row31\n",
    "  }\n",
    "\n",
    "  when(comp(row22, row13)) {\n",
    "    io.out2 := row22            // preserve first two elements\n",
    "    io.out3 := row32\n",
    "  }.otherwise {\n",
    "    io.out2 := row32            // swap first two elements\n",
    "    io.out3 := row22\n",
    "  }\n",
    "}\n"
   ]
  },
  {
   "cell_type": "markdown",
   "metadata": {},
   "source": [
    "<font face=\"宋体\" size=3>通常，when用于给带使能信号的寄存器更新数据，组合逻辑不常用。对于有复位信号的寄存器，尽量不要在when语句里用“reset.asBool”作为复位条件，更推荐使用RegInit来声明寄存器，这样生成的Verilog会自动根据当前的时钟域来同步复位。\n",
    "</font>"
   ]
  },
  {
   "cell_type": "markdown",
   "metadata": {},
   "source": [
    "----\n",
    "## 总结"
   ]
  },
  {
   "cell_type": "markdown",
   "metadata": {},
   "source": [
    "<font face=\"宋体\" size=3>数据类型必须配合硬件类型才能使用，它不能独立存在，因为编译器只会把硬件类型生成对应的Verilog代码。从语法规则上来讲，这两种类型也有很大的区别，编译器会对数据类型和硬件类型加以区分。\n",
    "但是从Chisel编译器的角度来看，这两者就是不一样。换句话说，硬件类型就好像在数据类型上“包裹了一层外衣(英文原文用单词binding来形容)”。\n",
    "有了基本的数据类型和硬件类型后，就已经可以编写绝大多数组合逻辑与时序逻辑电路。下一章将介绍Chisel库里定义的常用原语，有了这些原语就能更快速地像搭积木一样构建电路。\n",
    "</font>\n"
   ]
  },
  {
   "cell_type": "markdown",
   "metadata": {},
   "source": [
    "# <font face=\"STCAIYUN\" color=red size=5>E   N   D</font>"
   ]
  },
  {
   "cell_type": "code",
   "execution_count": null,
   "metadata": {},
   "outputs": [],
   "source": []
  }
 ],
 "metadata": {
  "kernelspec": {
   "display_name": "Python 3",
   "language": "python",
   "name": "python3"
  },
  "language_info": {
   "codemirror_mode": {
    "name": "ipython",
    "version": 3
   },
   "file_extension": ".py",
   "mimetype": "text/x-python",
   "name": "python",
   "nbconvert_exporter": "python",
   "pygments_lexer": "ipython3",
   "version": "3.7.0"
  }
 },
 "nbformat": 4,
 "nbformat_minor": 5
}
